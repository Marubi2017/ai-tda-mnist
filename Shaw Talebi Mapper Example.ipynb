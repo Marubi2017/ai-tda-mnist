version https://git-lfs.github.com/spec/v1
oid sha256:a60cc9d4cd68907dee574f30309bac17482f2047b7865193097b86db4598fa49
size 376925
