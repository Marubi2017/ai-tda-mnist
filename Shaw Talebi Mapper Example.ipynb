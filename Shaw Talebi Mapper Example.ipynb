version https://git-lfs.github.com/spec/v1
oid sha256:879c54d2c3df5ccd4e89e52e475cdfe5b5fefe6c53bbfc63d4c64c735c6b942b
size 364164
