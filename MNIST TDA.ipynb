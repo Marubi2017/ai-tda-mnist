version https://git-lfs.github.com/spec/v1
oid sha256:ab4401c3dee8a92196270344446d25fa37057b3ff033d12d30434be4aafaf0e6
size 27308
