version https://git-lfs.github.com/spec/v1
oid sha256:af11f7ceedc0d2c5eb95de461379c0c527a9a07db91720b40bb9bcc6504a3ec1
size 27710
