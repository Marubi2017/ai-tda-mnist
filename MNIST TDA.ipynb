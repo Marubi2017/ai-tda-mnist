version https://git-lfs.github.com/spec/v1
oid sha256:4bfdb7a030a23de6fc08c2f1f84d8f4c06181c567fb3d9306814ff71e95c9a02
size 93792
